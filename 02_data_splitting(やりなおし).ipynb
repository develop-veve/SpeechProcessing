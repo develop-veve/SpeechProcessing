{
 "cells": [
  {
   "cell_type": "markdown",
   "id": "315f1d0a-2a20-43c2-b2e7-431501f9a9b3",
   "metadata": {},
   "source": [
    "# 02_data_splitting.ipynb（データ分割）"
   ]
  },
  {
   "cell_type": "markdown",
   "id": "e7a63df5-09cc-4f5f-9823-ef3487082f35",
   "metadata": {},
   "source": [
    "### CSVファイルで保存"
   ]
  },
  {
   "cell_type": "code",
   "execution_count": 10,
   "id": "804781cd-5a11-4443-b7c5-d36d64ae9e25",
   "metadata": {},
   "outputs": [],
   "source": [
    "import os\n",
    "import numpy as np\n",
    "from sklearn.model_selection import train_test_split\n",
    "from sklearn.preprocessing import MinMaxScaler\n",
    "from tensorflow.keras.utils import to_categorical\n",
    "\n",
    "# データ保存先\n",
    "DATA_DIR = \"./data/\"\n",
    "if not os.path.exists(DATA_DIR):\n",
    "    os.makedirs(DATA_DIR)\n",
    "\n",
    "# ✅ 保存した特徴量（MFCC）とラベルデータをロード\n",
    "features_path = os.path.join(DATA_DIR, \"features.npy\")\n",
    "labels_path = os.path.join(DATA_DIR, \"labels.npy\")\n",
    "\n",
    "X = np.load(features_path)  # 特徴量データ\n",
    "y = np.load(labels_path)  # ラベルデータ\n",
    "\n",
    "# ✅ ラベルデータを One-Hot Encoding に変換\n",
    "y = to_categorical(y)\n",
    "\n",
    "# ✅ 特徴量データの正規化（Min-Max Scaling）\n",
    "scaler = MinMaxScaler()\n",
    "X = scaler.fit_transform(X.reshape(-1, X.shape[-1])).reshape(X.shape)\n",
    "\n",
    "# ✅ データセットを分割（80% 訓練, 10% 検証, 10% テスト）\n",
    "X_train, X_temp, y_train, y_temp = train_test_split(\n",
    "    X, y, test_size=0.2, random_state=42, stratify=np.argmax(y, axis=1)\n",
    ")\n",
    "X_val, X_test, y_val, y_test = train_test_split(\n",
    "    X_temp, y_temp, test_size=0.5, random_state=42, stratify=np.argmax(y_temp, axis=1)\n",
    ")"
   ]
  },
  {
   "cell_type": "markdown",
   "id": "63ff1469-ffaa-498a-a456-412b050ae00a",
   "metadata": {},
   "source": [
    "### 13次元の特徴量（データ）10種類に分類（クラス）"
   ]
  },
  {
   "cell_type": "code",
   "execution_count": 11,
   "id": "b99ecfc6-8265-42ac-9bc6-28dd7d50e7cd",
   "metadata": {},
   "outputs": [
    {
     "name": "stdout",
     "output_type": "stream",
     "text": [
      "訓練データ: (30836, 13), 検証データ: (3855, 13), テストデータ: (3855, 13)\n",
      "訓練ラベル: (30836, 10), 検証ラベル: (3855, 10), テストラベル: (3855, 10)\n"
     ]
    }
   ],
   "source": [
    "# ✅ 分割結果を確認\n",
    "print(f\"訓練データ: {X_train.shape}, 検証データ: {X_val.shape}, テストデータ: {X_test.shape}\")\n",
    "print(f\"訓練ラベル: {y_train.shape}, 検証ラベル: {y_val.shape}, テストラベル: {y_test.shape}\")"
   ]
  },
  {
   "cell_type": "markdown",
   "id": "22465bdd-4a8a-4d13-a36c-df9714865ac2",
   "metadata": {},
   "source": [
    "### 分割したデータを保存"
   ]
  },
  {
   "cell_type": "code",
   "execution_count": 12,
   "id": "de74f1db-ecb9-4b16-825e-bc42b30707e6",
   "metadata": {},
   "outputs": [
    {
     "name": "stdout",
     "output_type": "stream",
     "text": [
      "✅ データセットの分割と保存が完了しました。\n"
     ]
    }
   ],
   "source": [
    "# ✅ 分割後のデータを保存\n",
    "np.save(os.path.join(DATA_DIR, \"X_train.npy\"), X_train)\n",
    "np.save(os.path.join(DATA_DIR, \"X_val.npy\"), X_val)\n",
    "np.save(os.path.join(DATA_DIR, \"X_test.npy\"), X_test)\n",
    "np.save(os.path.join(DATA_DIR, \"y_train.npy\"), y_train)\n",
    "np.save(os.path.join(DATA_DIR, \"y_val.npy\"), y_val)\n",
    "np.save(os.path.join(DATA_DIR, \"y_test.npy\"), y_test)\n",
    "\n",
    "print(\"✅ データセットの分割と保存が完了しました。\")"
   ]
  },
  {
   "cell_type": "code",
   "execution_count": null,
   "id": "43b0d102-9b2c-4349-9edc-5a88e994bfa8",
   "metadata": {},
   "outputs": [],
   "source": []
  }
 ],
 "metadata": {
  "kernelspec": {
   "display_name": "Python 3 (ipykernel)",
   "language": "python",
   "name": "python3"
  },
  "language_info": {
   "codemirror_mode": {
    "name": "ipython",
    "version": 3
   },
   "file_extension": ".py",
   "mimetype": "text/x-python",
   "name": "python",
   "nbconvert_exporter": "python",
   "pygments_lexer": "ipython3",
   "version": "3.11.5"
  }
 },
 "nbformat": 4,
 "nbformat_minor": 5
}
